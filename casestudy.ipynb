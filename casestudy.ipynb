{
 "cells": [
  {
   "cell_type": "markdown",
   "metadata": {},
   "source": [
    "# Case Study"
   ]
  },
  {
   "cell_type": "code",
   "execution_count": 1,
   "metadata": {},
   "outputs": [],
   "source": [
    "import csv, sqlite3\n",
    "import pandas as pd\n",
    "import warnings\n",
    "warnings.filterwarnings('ignore')"
   ]
  },
  {
   "cell_type": "code",
   "execution_count": 2,
   "metadata": {},
   "outputs": [],
   "source": [
    "con = sqlite3.connect(\"casedb.db\")\n",
    "df = pd.read_csv('casestudy.csv')\n",
    "df.to_sql(\"casedb\", con, if_exists='append', index=False)\n",
    "\n",
    "con.commit()"
   ]
  },
  {
   "cell_type": "code",
   "execution_count": 3,
   "metadata": {},
   "outputs": [],
   "source": [
    "cur = con.cursor()"
   ]
  },
  {
   "cell_type": "markdown",
   "metadata": {},
   "source": [
    "## 2015"
   ]
  },
  {
   "cell_type": "code",
   "execution_count": 4,
   "metadata": {},
   "outputs": [
    {
     "name": "stdout",
     "output_type": "stream",
     "text": [
      "Total Revenue: 145183745.95001227\n"
     ]
    }
   ],
   "source": [
    "sql_command = \"SELECT sum(net_revenue) FROM casedb where year = 2015\"\n",
    "cur.execute(sql_command) \n",
    "\n",
    "ans = cur.fetchall()\n",
    "print(\"Total Revenue:\", ans[0][0]) \n",
    "total_revenue2015 = ans[0][0]"
   ]
  },
  {
   "cell_type": "code",
   "execution_count": 5,
   "metadata": {},
   "outputs": [
    {
     "name": "stdout",
     "output_type": "stream",
     "text": [
      "All customers: 1156470\n"
     ]
    }
   ],
   "source": [
    "sql_command = \"SELECT count(*) FROM casedb where year = 2015\"\n",
    "cur.execute(sql_command) \n",
    "\n",
    "ans = cur.fetchall()\n",
    "print(\"All customers:\", ans[0][0])"
   ]
  },
  {
   "cell_type": "markdown",
   "metadata": {},
   "source": [
    "## 2016"
   ]
  },
  {
   "cell_type": "code",
   "execution_count": 6,
   "metadata": {},
   "outputs": [
    {
     "name": "stdout",
     "output_type": "stream",
     "text": [
      "Total revenue: 128654717.94999059\n"
     ]
    }
   ],
   "source": [
    "sql_command = \"SELECT sum(net_revenue) FROM casedb where year = 2016\"\n",
    "cur.execute(sql_command) \n",
    "\n",
    "ans = cur.fetchall()\n",
    "print(\"Total revenue:\", ans[0][0]) "
   ]
  },
  {
   "cell_type": "code",
   "execution_count": 7,
   "metadata": {},
   "outputs": [
    {
     "name": "stdout",
     "output_type": "stream",
     "text": [
      "New Customer Revenue: 91227455.04999642\n"
     ]
    }
   ],
   "source": [
    "sql_command = \"\"\"SELECT sum(net_revenue) FROM casedb \n",
    "                 where year = 2016 AND customer_email not in (select customer_email from casedb where year = 2015)\"\"\"\n",
    "cur.execute(sql_command) \n",
    "\n",
    "ans = cur.fetchall()\n",
    "print(\"New Customer Revenue:\", ans[0][0]) "
   ]
  },
  {
   "cell_type": "code",
   "execution_count": 8,
   "metadata": {},
   "outputs": [
    {
     "name": "stdout",
     "output_type": "stream",
     "text": [
      "Existing Customer Growth 101677.30000057071\n"
     ]
    }
   ],
   "source": [
    "sql_command = \"\"\"SELECT sum(net_revenue) FROM casedb \n",
    "                where year = 2016 AND customer_email in (select customer_email from casedb where year = 2015);\"\"\"\n",
    "cur.execute(sql_command) \n",
    "\n",
    "ans = cur.fetchall()\n",
    "existing_customer_2016 = ans[0][0]\n",
    "\n",
    "sql_command = \"\"\"SELECT sum(net_revenue) FROM casedb \n",
    "                where year = 2015 AND customer_email in (select customer_email from casedb where year = 2016);\"\"\"\n",
    "cur.execute(sql_command) \n",
    "\n",
    "ans = cur.fetchall()\n",
    "existing_customer_2015 = ans[0][0]\n",
    "\n",
    "print(\"Existing Customer Growth\", existing_customer_2016-existing_customer_2015)\n",
    "ecg_2016 = existing_customer_2016-existing_customer_2015"
   ]
  },
  {
   "cell_type": "code",
   "execution_count": 9,
   "metadata": {},
   "outputs": [
    {
     "name": "stdout",
     "output_type": "stream",
     "text": [
      "Revenue lost from attrition: 107858160.35001104\n"
     ]
    }
   ],
   "source": [
    "sql_command = \"\"\"SELECT sum(net_revenue) FROM casedb \n",
    "                where year = 2015 AND customer_email not in (select customer_email from casedb where year = 2016);\"\"\"\n",
    "cur.execute(sql_command) \n",
    "\n",
    "ans = cur.fetchall()\n",
    "print(\"Revenue lost from attrition:\", ans[0][0])"
   ]
  },
  {
   "cell_type": "code",
   "execution_count": 10,
   "metadata": {},
   "outputs": [
    {
     "name": "stdout",
     "output_type": "stream",
     "text": [
      "Existing Customer Revenue Current Year: 37427262.90000024\n"
     ]
    }
   ],
   "source": [
    "print(\"Existing Customer Revenue Current Year:\", existing_customer_2016)"
   ]
  },
  {
   "cell_type": "code",
   "execution_count": 11,
   "metadata": {},
   "outputs": [
    {
     "name": "stdout",
     "output_type": "stream",
     "text": [
      "Existing Customer Revenue Prior Year: 37325585.599999666\n"
     ]
    }
   ],
   "source": [
    "print(\"Existing Customer Revenue Prior Year:\", existing_customer_2015)"
   ]
  },
  {
   "cell_type": "code",
   "execution_count": 12,
   "metadata": {},
   "outputs": [
    {
     "name": "stdout",
     "output_type": "stream",
     "text": [
      "Total Customers Current Year: 1023230\n"
     ]
    }
   ],
   "source": [
    "sql_command = \"\"\"SELECT count(customer_email) FROM casedb \n",
    "                 where year = 2016;\"\"\"\n",
    "cur.execute(sql_command) \n",
    "\n",
    "ans = cur.fetchall()\n",
    "print(\"Total Customers Current Year:\", ans[0][0])"
   ]
  },
  {
   "cell_type": "code",
   "execution_count": 13,
   "metadata": {},
   "outputs": [
    {
     "name": "stdout",
     "output_type": "stream",
     "text": [
      "Total Customers Previous Year: 1156470\n"
     ]
    }
   ],
   "source": [
    "sql_command = \"\"\"SELECT count(customer_email) FROM casedb \n",
    "                 where year = 2015;\"\"\"\n",
    "cur.execute(sql_command) \n",
    "\n",
    "ans = cur.fetchall()\n",
    "print(\"Total Customers Previous Year:\", ans[0][0])"
   ]
  },
  {
   "cell_type": "code",
   "execution_count": 14,
   "metadata": {},
   "outputs": [
    {
     "name": "stdout",
     "output_type": "stream",
     "text": [
      "New Customers: 725310\n"
     ]
    }
   ],
   "source": [
    "sql_command = \"\"\"SELECT DISTINCT count(customer_email) FROM casedb \n",
    "                 where year = 2016 AND customer_email not in (select customer_email from casedb where year=2015);\"\"\"\n",
    "cur.execute(sql_command) \n",
    "\n",
    "ans = cur.fetchall()\n",
    "print(\"New Customers:\", ans[0][0])"
   ]
  },
  {
   "cell_type": "code",
   "execution_count": 15,
   "metadata": {},
   "outputs": [
    {
     "name": "stdout",
     "output_type": "stream",
     "text": [
      "Lost Customers: 858550\n"
     ]
    }
   ],
   "source": [
    "sql_command = \"\"\"SELECT DISTINCT count(customer_email) FROM casedb \n",
    "                 where year = 2015 AND customer_email not in (select customer_email from casedb where year=2016);\"\"\"\n",
    "cur.execute(sql_command) \n",
    "\n",
    "ans = cur.fetchall()\n",
    "print(\"Lost Customers:\", ans[0][0])"
   ]
  },
  {
   "cell_type": "markdown",
   "metadata": {},
   "source": [
    "## 2017"
   ]
  },
  {
   "cell_type": "code",
   "execution_count": 16,
   "metadata": {},
   "outputs": [
    {
     "name": "stdout",
     "output_type": "stream",
     "text": [
      "Total revenue: 157087475.15000036\n"
     ]
    }
   ],
   "source": [
    "sql_command = \"SELECT sum(net_revenue) FROM casedb where year = 2017\"\n",
    "cur.execute(sql_command) \n",
    "\n",
    "ans = cur.fetchall()\n",
    "print(\"Total revenue:\", ans[0][0]) "
   ]
  },
  {
   "cell_type": "code",
   "execution_count": 17,
   "metadata": {},
   "outputs": [
    {
     "name": "stdout",
     "output_type": "stream",
     "text": [
      "New Customer Revenue: 143383038.20000574\n"
     ]
    }
   ],
   "source": [
    "sql_command = \"\"\"SELECT sum(net_revenue) FROM casedb \n",
    "                 where year = 2017 AND customer_email not in (select customer_email from casedb where year < 2017)\"\"\"\n",
    "cur.execute(sql_command) \n",
    "\n",
    "ans = cur.fetchall()\n",
    "print(\"New Customer Revenue:\", ans[0][0]) "
   ]
  },
  {
   "cell_type": "code",
   "execution_count": 18,
   "metadata": {},
   "outputs": [],
   "source": [
    "sql_command = \"\"\"SELECT sum(net_revenue) FROM casedb \n",
    "                 where year = 2017 AND customer_email in (select customer_email from casedb where year < 2017);\"\"\"\n",
    "cur.execute(sql_command) \n",
    "\n",
    "ans = cur.fetchall()\n",
    "existing_customer_2017 = ans[0][0]"
   ]
  },
  {
   "cell_type": "code",
   "execution_count": 19,
   "metadata": {},
   "outputs": [
    {
     "name": "stdout",
     "output_type": "stream",
     "text": [
      "Existing Customer Growth: 13602759.649999592\n"
     ]
    }
   ],
   "source": [
    "print(\"Existing Customer Growth:\", existing_customer_2017-ecg_2016)"
   ]
  },
  {
   "cell_type": "code",
   "execution_count": 20,
   "metadata": {},
   "outputs": [
    {
     "name": "stdout",
     "output_type": "stream",
     "text": [
      "Revenue lost from attrition: 115551474.69999179\n"
     ]
    }
   ],
   "source": [
    "sql_command = \"\"\"SELECT sum(net_revenue) FROM casedb \n",
    "                where year = 2016 AND customer_email not in (select customer_email from casedb where year = 2017);\"\"\"\n",
    "cur.execute(sql_command) \n",
    "\n",
    "ans = cur.fetchall()\n",
    "print(\"Revenue lost from attrition:\", ans[0][0])"
   ]
  },
  {
   "cell_type": "code",
   "execution_count": 21,
   "metadata": {},
   "outputs": [
    {
     "name": "stdout",
     "output_type": "stream",
     "text": [
      "Existing Customer Revenue Current Year: 13704436.950000163\n"
     ]
    }
   ],
   "source": [
    "print(\"Existing Customer Revenue Current Year:\", existing_customer_2017)"
   ]
  },
  {
   "cell_type": "code",
   "execution_count": 22,
   "metadata": {},
   "outputs": [
    {
     "name": "stdout",
     "output_type": "stream",
     "text": [
      "Existing Customer Revenue Prior Year: 46667867.15000103\n"
     ]
    }
   ],
   "source": [
    "sql_command = \"\"\"SELECT sum(net_revenue) FROM casedb \n",
    "                 where year = 2016 AND customer_email in (select customer_email from casedb where year = 2015 or year = 2017);\"\"\"\n",
    "cur.execute(sql_command) \n",
    "\n",
    "ans = cur.fetchall()\n",
    "print(\"Existing Customer Revenue Prior Year:\", ans[0][0])"
   ]
  },
  {
   "cell_type": "code",
   "execution_count": 23,
   "metadata": {},
   "outputs": [
    {
     "name": "stdout",
     "output_type": "stream",
     "text": [
      "Total Customers Current Year: 1249935\n"
     ]
    }
   ],
   "source": [
    "sql_command = \"\"\"SELECT count(customer_email) FROM casedb \n",
    "                 where year = 2017;\"\"\"\n",
    "cur.execute(sql_command) \n",
    "\n",
    "ans = cur.fetchall()\n",
    "print(\"Total Customers Current Year:\", ans[0][0])"
   ]
  },
  {
   "cell_type": "code",
   "execution_count": 24,
   "metadata": {},
   "outputs": [
    {
     "name": "stdout",
     "output_type": "stream",
     "text": [
      "Total Customers Previous Year: 1023230\n"
     ]
    }
   ],
   "source": [
    "sql_command = \"\"\"SELECT count(customer_email) FROM casedb \n",
    "                 where year = 2016;\"\"\"\n",
    "cur.execute(sql_command) \n",
    "\n",
    "ans = cur.fetchall()\n",
    "print(\"Total Customers Previous Year:\", ans[0][0])"
   ]
  },
  {
   "cell_type": "code",
   "execution_count": 25,
   "metadata": {},
   "outputs": [
    {
     "name": "stdout",
     "output_type": "stream",
     "text": [
      "New Customers: 1141310\n"
     ]
    }
   ],
   "source": [
    "sql_command = \"\"\"SELECT DISTINCT count(customer_email) FROM casedb \n",
    "                 where year = 2017 AND customer_email not in (select customer_email from casedb where year<2017);\"\"\"\n",
    "cur.execute(sql_command) \n",
    "\n",
    "ans = cur.fetchall()\n",
    "print(\"New Customers:\", ans[0][0])"
   ]
  },
  {
   "cell_type": "code",
   "execution_count": 26,
   "metadata": {},
   "outputs": [
    {
     "name": "stdout",
     "output_type": "stream",
     "text": [
      "Lost Customers: 918435\n"
     ]
    }
   ],
   "source": [
    "sql_command = \"\"\"SELECT DISTINCT count(customer_email) FROM casedb \n",
    "                 where year = 2016 AND customer_email not in (select customer_email from casedb where year = 2017);\"\"\"\n",
    "cur.execute(sql_command) \n",
    "\n",
    "ans = cur.fetchall()\n",
    "print(\"Lost Customers:\", ans[0][0])"
   ]
  },
  {
   "cell_type": "code",
   "execution_count": 27,
   "metadata": {},
   "outputs": [],
   "source": [
    "con.close()"
   ]
  }
 ],
 "metadata": {
  "kernelspec": {
   "display_name": "Python 3",
   "language": "python",
   "name": "python3"
  },
  "language_info": {
   "codemirror_mode": {
    "name": "ipython",
    "version": 3
   },
   "file_extension": ".py",
   "mimetype": "text/x-python",
   "name": "python",
   "nbconvert_exporter": "python",
   "pygments_lexer": "ipython3",
   "version": "3.7.6"
  }
 },
 "nbformat": 4,
 "nbformat_minor": 4
}
